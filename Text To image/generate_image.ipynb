import torch
from diffusers import StableDiffusionPipeline
from PIL import Image

def generate_image(prompt, model_id="CompVis/stable-diffusion-v1-4", save_path="generated_image.png"):
    """
    Generates an image based on the given text prompt using Stable Diffusion.
    """
    device = "cuda" if torch.cuda.is_available() else "cpu"
    
    # Load the pipeline
    pipe = StableDiffusionPipeline.from_pretrained(model_id)
    pipe = pipe.to(device)
    
    # Generate the image
    with torch.no_grad():
        image = pipe(prompt).images[0]
    
    # Save the image
    image.save(save_path)
    print(f"Image saved to {save_path}")
    return image

if __name__ == "__main__":
    prompt = "A futuristic cityscape at sunset with flying cars and neon lights."
    generated_image = generate_image(prompt)
    
    # Display the image
    generated_image.show()
